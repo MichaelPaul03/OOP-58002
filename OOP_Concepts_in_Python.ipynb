{
  "nbformat": 4,
  "nbformat_minor": 0,
  "metadata": {
    "colab": {
      "name": "OOP Concepts in Python.ipynb",
      "provenance": [],
      "collapsed_sections": [],
      "authorship_tag": "ABX9TyP7DmZweEuq1N+twAta67/t",
      "include_colab_link": true
    },
    "kernelspec": {
      "name": "python3",
      "display_name": "Python 3"
    },
    "language_info": {
      "name": "python"
    }
  },
  "cells": [
    {
      "cell_type": "markdown",
      "metadata": {
        "id": "view-in-github",
        "colab_type": "text"
      },
      "source": [
        "<a href=\"https://colab.research.google.com/github/MichaelPaul03/OOP-58002/blob/main/OOP_Concepts_in_Python.ipynb\" target=\"_parent\"><img src=\"https://colab.research.google.com/assets/colab-badge.svg\" alt=\"Open In Colab\"/></a>"
      ]
    },
    {
      "cell_type": "markdown",
      "source": [
        "Create a Class"
      ],
      "metadata": {
        "id": "Icu4fBziHaGA"
      }
    },
    {
      "cell_type": "code",
      "execution_count": null,
      "metadata": {
        "id": "ZQqTq8BsHUIa"
      },
      "outputs": [],
      "source": [
        "class Car:\n",
        "  pass"
      ]
    },
    {
      "cell_type": "markdown",
      "source": [
        "Create an Object\n"
      ],
      "metadata": {
        "id": "F7-SVwbbK26w"
      }
    },
    {
      "cell_type": "code",
      "source": [
        "class Car:\n",
        "  def __init__(self,name,color):\n",
        "    self.name = name\n",
        "    self.color = color\n",
        "\n",
        "  def description(self):\n",
        "    return\"The\"+ self.name+\"has a color\"+self.color\n",
        "\n",
        "  def show(self):\n",
        "    print(\"The \"+self.name+\"has a color\"+self.color)\n",
        "\n",
        "car1 = Car(\"Honda City \",\" red\")\n",
        "car1.show()"
      ],
      "metadata": {
        "colab": {
          "base_uri": "https://localhost:8080/"
        },
        "id": "uFiqCN9cK5xl",
        "outputId": "7561906e-260a-4efb-e67d-49509a855df9"
      },
      "execution_count": null,
      "outputs": [
        {
          "output_type": "stream",
          "name": "stdout",
          "text": [
            "The Honda City has a color red\n"
          ]
        }
      ]
    },
    {
      "cell_type": "markdown",
      "source": [
        "Object Methods"
      ],
      "metadata": {
        "id": "EGVRkd3UN5pz"
      }
    },
    {
      "cell_type": "code",
      "source": [
        "class Person:\n",
        "  def __init__(self,name,age):\n",
        "    self.name = name\n",
        "    self.age = age\n",
        "  def myFunction(self):\n",
        "    print(\"Hello! My name is\",self.name)\n",
        "    print(\"I am\",self.age)\n",
        "  \n",
        "p1= Person(\"Michael\",19)\n",
        "p1.myFunction()"
      ],
      "metadata": {
        "colab": {
          "base_uri": "https://localhost:8080/"
        },
        "id": "jNLgfXA9N7-t",
        "outputId": "9fedf8ab-0214-4388-8d4b-180f1e0b595d"
      },
      "execution_count": null,
      "outputs": [
        {
          "output_type": "stream",
          "name": "stdout",
          "text": [
            "Hello! My name is Michael\n",
            "I am 19\n"
          ]
        }
      ]
    },
    {
      "cell_type": "markdown",
      "source": [
        "Modify an Object Property"
      ],
      "metadata": {
        "id": "yKRq0Vg3VvTp"
      }
    },
    {
      "cell_type": "code",
      "source": [
        "car1.name =\"Mitsubishi \"\n",
        "print(car1.name)\n",
        "\n",
        "car1.color = \" Blue\"\n",
        "print(car1.color)\n",
        "\n",
        "car1.show()"
      ],
      "metadata": {
        "colab": {
          "base_uri": "https://localhost:8080/"
        },
        "id": "vidRw0TfVzBZ",
        "outputId": "b8b070a9-a923-41d9-a61c-40e578e70fd9"
      },
      "execution_count": null,
      "outputs": [
        {
          "output_type": "stream",
          "name": "stdout",
          "text": [
            "Mitsubishi \n",
            " Blue\n",
            "The Mitsubishi has a color Blue\n"
          ]
        }
      ]
    },
    {
      "cell_type": "markdown",
      "source": [
        "Delete an Object Property"
      ],
      "metadata": {
        "id": "rvfAKM1aWisp"
      }
    },
    {
      "cell_type": "code",
      "source": [
        "del car1.name\n",
        "print(car1.color)"
      ],
      "metadata": {
        "colab": {
          "base_uri": "https://localhost:8080/",
          "height": 183
        },
        "id": "z57TeOT8WpKE",
        "outputId": "a360058f-f4e7-43a4-d01e-e154bfd109d1"
      },
      "execution_count": null,
      "outputs": [
        {
          "output_type": "error",
          "ename": "AttributeError",
          "evalue": "ignored",
          "traceback": [
            "\u001b[0;31m---------------------------------------------------------------------------\u001b[0m",
            "\u001b[0;31mAttributeError\u001b[0m                            Traceback (most recent call last)",
            "\u001b[0;32m<ipython-input-74-8e7b075a8405>\u001b[0m in \u001b[0;36m<module>\u001b[0;34m()\u001b[0m\n\u001b[1;32m      1\u001b[0m \u001b[0;32mdel\u001b[0m \u001b[0mcar1\u001b[0m\u001b[0;34m.\u001b[0m\u001b[0mname\u001b[0m\u001b[0;34m\u001b[0m\u001b[0;34m\u001b[0m\u001b[0m\n\u001b[0;32m----> 2\u001b[0;31m \u001b[0mprint\u001b[0m\u001b[0;34m(\u001b[0m\u001b[0mcar1\u001b[0m\u001b[0;34m.\u001b[0m\u001b[0mcolor\u001b[0m\u001b[0;34m)\u001b[0m\u001b[0;34m\u001b[0m\u001b[0;34m\u001b[0m\u001b[0m\n\u001b[0m",
            "\u001b[0;31mAttributeError\u001b[0m: 'Car' object has no attribute 'color'"
          ]
        }
      ]
    },
    {
      "cell_type": "markdown",
      "source": [
        "Application 1 = Write a Python program that computes for the Area and Perimeter of a Square and create a class name Square with side as its attribute"
      ],
      "metadata": {
        "id": "Bx728xHXXXUU"
      }
    },
    {
      "cell_type": "code",
      "source": [
        "class Square:\n",
        "  def __init__(self,side):\n",
        "    self.side = side\n",
        "\n",
        "  def Area(self):\n",
        "    return self.side*self.side\n",
        "\n",
        "  def Perimeter(self):\n",
        "    return 4*(self.side)\n",
        "\n",
        "  def display(self):\n",
        "    print(\"The area of a square is\",self.Area())\n",
        "    print(\"The perimeter of a square is\",self.Perimeter())\n",
        "\n",
        "sq1 = Square(4)\n",
        "sq1.display()"
      ],
      "metadata": {
        "colab": {
          "base_uri": "https://localhost:8080/"
        },
        "id": "YpC6rxsJXrXj",
        "outputId": "91f4e414-bceb-4255-f056-8526979f0aa6"
      },
      "execution_count": null,
      "outputs": [
        {
          "output_type": "stream",
          "name": "stdout",
          "text": [
            "The area of a square is 16\n",
            "The perimeter of a square is 16\n"
          ]
        }
      ]
    },
    {
      "cell_type": "markdown",
      "source": [
        "Application 2 = Write a Python program that display your student no. and full name (Surname, First Name, MI) and create a class name OOP_58002"
      ],
      "metadata": {
        "id": "iEkNhtVvaU8Y"
      }
    },
    {
      "cell_type": "code",
      "source": [
        "class OOP_58002:\n",
        "  def __init__(self,name,number):\n",
        "    self.name = name\n",
        "    self.number = number\n",
        "  def myFunction(self):\n",
        "    print(\"My Student Number is \",self.number, \"My name is \" , self.name)\n",
        "  \n",
        "OOP_580021= OOP_58002(\"Meneses, Michael Paul A.\",202113407)\n",
        "OOP_580021.myFunction()"
      ],
      "metadata": {
        "id": "1EfOe6Eqa4bE",
        "colab": {
          "base_uri": "https://localhost:8080/"
        },
        "outputId": "cc843b57-ee61-4207-e69e-91af7397139a"
      },
      "execution_count": 6,
      "outputs": [
        {
          "output_type": "stream",
          "name": "stdout",
          "text": [
            "My Student Number is  202113407 My name is  Meneses, Michael Paul A.\n"
          ]
        }
      ]
    },
    {
      "cell_type": "code",
      "source": [
        "class OOP_58002:\n",
        "  def __init__(self,name,number):\n",
        "    self.name = name\n",
        "    self.number = number\n",
        "\n",
        "  def description(self):\n",
        "    return\"I am\"+ self.name+\" my Student Number is\"+self.number\n",
        "\n",
        "  def show(self):\n",
        "    print(\"I am \"+ self.name+ \" And my Student Number is \"+self.number)\n",
        "\n",
        "OOP_580021 = OOP_58002(\"Meneses, Michael Paul A.\", \"202113407\")\n",
        "OOP_580021.show()"
      ],
      "metadata": {
        "colab": {
          "base_uri": "https://localhost:8080/"
        },
        "id": "C_dU959SponV",
        "outputId": "3b688bbd-6234-4115-ba45-0413dce19c8a"
      },
      "execution_count": 4,
      "outputs": [
        {
          "output_type": "stream",
          "name": "stdout",
          "text": [
            "I am Meneses, Michael Paul A. And my Student Number is 202113407\n"
          ]
        }
      ]
    }
  ]
}