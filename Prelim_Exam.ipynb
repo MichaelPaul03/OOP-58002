{
  "nbformat": 4,
  "nbformat_minor": 0,
  "metadata": {
    "colab": {
      "name": "Prelim Exam.ipynb",
      "provenance": [],
      "authorship_tag": "ABX9TyNmGC4XsaUiumkpzTqH9yD3",
      "include_colab_link": true
    },
    "kernelspec": {
      "name": "python3",
      "display_name": "Python 3"
    },
    "language_info": {
      "name": "python"
    }
  },
  "cells": [
    {
      "cell_type": "markdown",
      "metadata": {
        "id": "view-in-github",
        "colab_type": "text"
      },
      "source": [
        "<a href=\"https://colab.research.google.com/github/MichaelPaul03/OOP-58002/blob/main/Prelim_Exam.ipynb\" target=\"_parent\"><img src=\"https://colab.research.google.com/assets/colab-badge.svg\" alt=\"Open In Colab\"/></a>"
      ]
    },
    {
      "cell_type": "code",
      "source": [
        "class Student:\n",
        "  def __init__(self,Student,Number,Age,School,Course):\n",
        "    self.Student = Student\n",
        "    self.Number = Number\n",
        "    self.Age = Age\n",
        "    self.School = School\n",
        "    self.Course = Course\n",
        "  \n",
        "  def myFunction(self):\n",
        "    print(\"Name: \",self.Student,\"\\nAge: \",self.Age, \"\\nStudent No: \",self.Number, \"\\nSchool: \", self.School, \"\\nCourse: \", self.Course)\n",
        "\n",
        "Myself= Student(\"Meneses, Michael Paul A.\", 202113407, 19, \"Adamson University\", \"BS Computer Engineering\")\n",
        "Myself.myFunction()"
      ],
      "metadata": {
        "colab": {
          "base_uri": "https://localhost:8080/"
        },
        "id": "eR-9gsdEK1uU",
        "outputId": "1c1ad3b0-f340-4518-d259-23fa6fa0baec"
      },
      "execution_count": 51,
      "outputs": [
        {
          "output_type": "stream",
          "name": "stdout",
          "text": [
            "Name:  Meneses, Michael Paul A. \n",
            "Age:  19 \n",
            "Student No:  202113407 \n",
            "School:  Adamson University \n",
            "Course:  BS Computer Engineering\n"
          ]
        }
      ]
    }
  ]
}