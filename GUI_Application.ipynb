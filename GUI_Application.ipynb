{
  "nbformat": 4,
  "nbformat_minor": 0,
  "metadata": {
    "colab": {
      "name": "GUI Application.ipynb",
      "provenance": [],
      "authorship_tag": "ABX9TyNGrVPAR1kb5z/oEr6ONZkt",
      "include_colab_link": true
    },
    "kernelspec": {
      "name": "python3",
      "display_name": "Python 3"
    },
    "language_info": {
      "name": "python"
    }
  },
  "cells": [
    {
      "cell_type": "markdown",
      "metadata": {
        "id": "view-in-github",
        "colab_type": "text"
      },
      "source": [
        "<a href=\"https://colab.research.google.com/github/MichaelPaul03/OOP-58002/blob/main/GUI_Application.ipynb\" target=\"_parent\"><img src=\"https://colab.research.google.com/assets/colab-badge.svg\" alt=\"Open In Colab\"/></a>"
      ]
    },
    {
      "cell_type": "markdown",
      "source": [
        "Create a Python Program that displays the grades of a student in prelim,midterm,and final ter,"
      ],
      "metadata": {
        "id": "FEnNmfSccSsQ"
      }
    },
    {
      "cell_type": "code",
      "source": [
        "#@title Student Grades in OOP { run: \"auto\", display-mode: \"both\" }\n",
        "\n",
        "Student_name = \"Michael Paul A. Meneses\" #@param {type:\"string\"}\n",
        "Prelim_grade = 87 #@param {type:\"number\"}\n",
        "Midterm_grade = 89 #@param {type:\"number\"}\n",
        "Final_grade = 92 #@param {type:\"number\"}\n",
        "Gender = \"Male\" #@param {type:\"string\"}\n",
        "Birthdate = \"2002-03-20\" #@param {type:\"string\"}\n",
        "semestral = (Prelim_grade*0.30+Midterm_grade*0.30+Final_grade*0.40)\n",
        "\n",
        "print(\"The semestral grade of the student is: \"+str(round(semestral)))\n",
        "\n",
        "print(Gender)\n",
        "print(\"My Birthday is: \"+\"\"+Birthdate)"
      ],
      "metadata": {
        "colab": {
          "base_uri": "https://localhost:8080/"
        },
        "id": "mBEaEyhBdOqN",
        "outputId": "879b6d81-2192-4bab-f2c1-6843df1708b7"
      },
      "execution_count": 28,
      "outputs": [
        {
          "output_type": "stream",
          "name": "stdout",
          "text": [
            "The semestral grade of the student is: 90\n",
            "Male\n",
            "My Birthday is: 2002-03-20\n"
          ]
        }
      ]
    }
  ]
}