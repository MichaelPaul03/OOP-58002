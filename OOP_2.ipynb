{
  "nbformat": 4,
  "nbformat_minor": 0,
  "metadata": {
    "colab": {
      "name": "OOP-2.ipynb",
      "provenance": [],
      "collapsed_sections": [],
      "authorship_tag": "ABX9TyOAm9Oh2cQPmtOkN9VkFKO7",
      "include_colab_link": true
    },
    "kernelspec": {
      "name": "python3",
      "display_name": "Python 3"
    },
    "language_info": {
      "name": "python"
    }
  },
  "cells": [
    {
      "cell_type": "markdown",
      "metadata": {
        "id": "view-in-github",
        "colab_type": "text"
      },
      "source": [
        "<a href=\"https://colab.research.google.com/github/MichaelPaul03/OOP-58002/blob/main/OOP_2.ipynb\" target=\"_parent\"><img src=\"https://colab.research.google.com/assets/colab-badge.svg\" alt=\"Open In Colab\"/></a>"
      ]
    },
    {
      "cell_type": "markdown",
      "source": [
        "Classes with Multiple Objects"
      ],
      "metadata": {
        "id": "qrVa0d40UtS0"
      }
    },
    {
      "cell_type": "code",
      "execution_count": null,
      "metadata": {
        "id": "8z2M3F3NQEfB",
        "colab": {
          "base_uri": "https://localhost:8080/"
        },
        "outputId": "64186702-520b-48ac-b0bf-c0111305973f"
      },
      "outputs": [
        {
          "output_type": "stream",
          "name": "stdout",
          "text": [
            "Griffon Vulture flies above clouds \n",
            "Common Crane flies above clouds \n",
            "Emu is the national bird of the Philippines\n"
          ]
        }
      ],
      "source": [
        "class Birds:\n",
        "  def __init__(self,bird_name):\n",
        "    self.bird_name= bird_name\n",
        "\n",
        "  def flying_birds(self):\n",
        "    print(f\"{self.bird_name} flies above clouds \")\n",
        "\n",
        "  def non_flying_birds(self):\n",
        "    print(f\"{self.bird_name} is the national bird of the Philippines\")\n",
        "\n",
        "vulture = Birds(\"Griffon Vulture\")\n",
        "crane = Birds(\"Common Crane\")\n",
        "emu = Birds(\"Emu\")\n",
        "\n",
        "vulture.flying_birds()\n",
        "crane.flying_birds()\n",
        "emu.non_flying_birds()"
      ]
    },
    {
      "cell_type": "markdown",
      "source": [
        "Encapsulation"
      ],
      "metadata": {
        "id": "re8zl4W9WgNq"
      }
    },
    {
      "cell_type": "code",
      "source": [
        "class foo:\n",
        "  def __init__(self,a,b):\n",
        "    self.__a = a\n",
        "    self.__b = b\n",
        "  def add(self):\n",
        "    return self.__a + self.__b\n",
        "  def sub(self):\n",
        "    return self.__a - self.__b\n",
        "\n",
        "foo_object = foo(3,4)\n",
        "\n",
        "print(foo_object.add())\n",
        "print(foo_object.sub())\n",
        "\n",
        "foo_object.__b = 5\n",
        "foo_object.__a = 7\n",
        "\n",
        "print(foo_object.add())\n",
        "print(foo_object.sub())"
      ],
      "metadata": {
        "id": "NoVcC3VhW6dt",
        "colab": {
          "base_uri": "https://localhost:8080/"
        },
        "outputId": "89404974-6c8d-4661-ed2a-7d115968aba0"
      },
      "execution_count": null,
      "outputs": [
        {
          "output_type": "stream",
          "name": "stdout",
          "text": [
            "7\n",
            "-1\n",
            "7\n",
            "-1\n"
          ]
        }
      ]
    },
    {
      "cell_type": "markdown",
      "source": [
        "Inheritance"
      ],
      "metadata": {
        "id": "kryLjiIrdE7Y"
      }
    },
    {
      "cell_type": "code",
      "source": [
        "class Person:\n",
        "  def __init__(self,firstname,surname):\n",
        "    self.firstname = firstname\n",
        "    self. surname = surname\n",
        "  \n",
        "  def printname(self):\n",
        "    print(self.firstname,self.surname)\n",
        "\n",
        "person = Person(\"Michael\",\"Meneses\")\n",
        "person.printname()\n",
        "\n",
        "class Student(Person):\n",
        "  pass\n",
        "\n",
        "person = Student(\"Mam\",\"Sayo\")\n",
        "person.printname()"
      ],
      "metadata": {
        "colab": {
          "base_uri": "https://localhost:8080/"
        },
        "id": "5MShHXn6daud",
        "outputId": "39cd6ad3-96a5-4480-d8f5-dfc2e7d679d9"
      },
      "execution_count": null,
      "outputs": [
        {
          "output_type": "stream",
          "name": "stdout",
          "text": [
            "Michael Meneses\n",
            "Mam Sayo\n"
          ]
        }
      ]
    },
    {
      "cell_type": "markdown",
      "source": [
        "Polymorphism"
      ],
      "metadata": {
        "id": "8PamBPo-fXTR"
      }
    },
    {
      "cell_type": "code",
      "source": [
        "class RegularPolygon:\n",
        "  def __init__(self,side):\n",
        "    self.side = side\n",
        "class Square(RegularPolygon):\n",
        "    def area(self):\n",
        "      return self.side*self.side\n",
        "class EquilateralTriangle(RegularPolygon):\n",
        "  def area(self):\n",
        "    return self.side*self.side*0.433\n",
        "\n",
        "x = Square(4)\n",
        "y = EquilateralTriangle(3)\n",
        "\n",
        "print(x.area())\n",
        "print(y.area())"
      ],
      "metadata": {
        "colab": {
          "base_uri": "https://localhost:8080/"
        },
        "id": "rt9SNIgVfXv3",
        "outputId": "d3a22474-6503-4e54-e3a2-113b3b63cc3e"
      },
      "execution_count": null,
      "outputs": [
        {
          "output_type": "stream",
          "name": "stdout",
          "text": [
            "16\n",
            "3.897\n"
          ]
        }
      ]
    },
    {
      "cell_type": "markdown",
      "source": [
        "Application 1"
      ],
      "metadata": {
        "id": "h7gpETvejeHD"
      }
    },
    {
      "cell_type": "markdown",
      "source": [
        "1. Create a Python Program that displays the name of three students (Student 1, Student 2, Student 3) and their term grades\n",
        "2. Create a class name Person and Attributes - std1, std2, std3,pre,mid,fin\n",
        "3. Compute the Average of each term grade using Grade() method\n",
        "4. Information about student's grades must be hidden from others"
      ],
      "metadata": {
        "id": "s-5EDkxFjgx2"
      }
    },
    {
      "cell_type": "code",
      "source": [
        "class Person:\n",
        "  def __init__(self,std1,std2,std3,pre,mid,fin):\n",
        "    self.std1 = std1\n",
        "    self.std2 = std2\n",
        "    self.std3 = std3\n",
        "    self.pre = pre\n",
        "    self.mid = mid\n",
        "    self.fin = fin\n",
        "\n",
        "Student1 = { \"name\":\"Student 1\",\n",
        "\t\t\"Prelim\" : [85],\n",
        "\t\t\"Midterm\" : [95],\n",
        "\t\t\"Final\" : [98.90]\n",
        "\t}\n",
        "\t\t\n",
        "Student2 = { \"name\":\"Student 2\",\n",
        "\t\t\"Prelim\" : [82],\n",
        "\t\t\"Midterm\" : [80],\n",
        "\t\t\"Final\" : [87.90]\n",
        "\t\t}\n",
        "\n",
        "Student3 = { \"name\" : \"Student 3\",\n",
        "\t\t\"Prelim\" : [93],\n",
        "\t\t\"Midterm\" : [98],\n",
        "\t\t\"Final\" : [80]\n",
        "\t\t}\n",
        "\n",
        "def get_average(marks):\n",
        "\ttotal_sum = sum(marks)\n",
        "\ttotal_sum = float(total_sum)\n",
        "\treturn total_sum / len(marks)\n",
        "\t\n",
        " \n",
        "def calculate_total_average(students):\n",
        "\tPrelim = get_average(students[\"Prelim\"])\n",
        "\tMidterm = get_average(students[\"Midterm\"])\n",
        "\tFinal = get_average(students[\"Final\"])\n",
        "\treturn (0.3 * Prelim + 0.3 * Midterm + 0.4 * Final)\n",
        "\n",
        "students = [Student1, Student2, Student3]\n",
        "\n",
        "for i in students :\n",
        "  print(i[\"name\"])\n",
        "  print(\"_______________________\")\n",
        "  print(\"Prelim Marks of %s is : %s \" %(i[\"name\"],\n",
        "    calculate_total_average(i)))\n",
        "\n",
        "for i in students :\n",
        "  print(i[\"name\"])\n",
        "  print(\"_______________________\")\n",
        "  print(\"Midterm Marks of %s is : %s \" %(i[\"name\"],\n",
        "    calculate_total_average(i)))\n",
        "\n",
        "for i in students :\n",
        "  print(i[\"name\"])\n",
        "  print(\"_______________________\")\n",
        "  print(\"Final Marks of %s is : %s \" %(i[\"name\"],\n",
        "    calculate_total_average(i)))"
      ],
      "metadata": {
        "id": "27SdGpdqkm3l",
        "colab": {
          "base_uri": "https://localhost:8080/"
        },
        "outputId": "5027f4c2-7cdb-4520-ae6a-39b91e57722e"
      },
      "execution_count": 2,
      "outputs": [
        {
          "output_type": "stream",
          "name": "stdout",
          "text": [
            "Student 1\n",
            "_______________________\n",
            "Prelim Marks of Student 1 is : 93.56 \n",
            "Student 2\n",
            "_______________________\n",
            "Prelim Marks of Student 2 is : 83.75999999999999 \n",
            "Student 3\n",
            "_______________________\n",
            "Prelim Marks of Student 3 is : 89.3 \n",
            "Student 1\n",
            "_______________________\n",
            "Midterm Marks of Student 1 is : 93.56 \n",
            "Student 2\n",
            "_______________________\n",
            "Midterm Marks of Student 2 is : 83.75999999999999 \n",
            "Student 3\n",
            "_______________________\n",
            "Midterm Marks of Student 3 is : 89.3 \n",
            "Student 1\n",
            "_______________________\n",
            "Final Marks of Student 1 is : 93.56 \n",
            "Student 2\n",
            "_______________________\n",
            "Final Marks of Student 2 is : 83.75999999999999 \n",
            "Student 3\n",
            "_______________________\n",
            "Final Marks of Student 3 is : 89.3 \n"
          ]
        }
      ]
    }
  ]
}