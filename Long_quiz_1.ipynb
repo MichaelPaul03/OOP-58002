{
  "nbformat": 4,
  "nbformat_minor": 0,
  "metadata": {
    "colab": {
      "name": "Long quiz 1.ipynb",
      "provenance": [],
      "collapsed_sections": [],
      "authorship_tag": "ABX9TyNLmVyssoXr+A2USvbxTKhe",
      "include_colab_link": true
    },
    "kernelspec": {
      "name": "python3",
      "display_name": "Python 3"
    },
    "language_info": {
      "name": "python"
    }
  },
  "cells": [
    {
      "cell_type": "markdown",
      "metadata": {
        "id": "view-in-github",
        "colab_type": "text"
      },
      "source": [
        "<a href=\"https://colab.research.google.com/github/MichaelPaul03/OOP-58002/blob/main/Long_quiz_1.ipynb\" target=\"_parent\"><img src=\"https://colab.research.google.com/assets/colab-badge.svg\" alt=\"Open In Colab\"/></a>"
      ]
    },
    {
      "cell_type": "code",
      "source": [
        "class Temperature:\n",
        "  def __init__(self,Celsius):\n",
        "    self.Celsius = Celsius\n",
        "  \n",
        "  def Fahrenheit_Conversion(self):\n",
        "    result = float((9 * self.Celsius) / 5 + 32)\n",
        "    return result\n",
        "    \n",
        "input_Temperature = float(input(\"Insert a Temperature in Celsius: \"))\n",
        "Temperature1 = Temperature(input_Temperature)\n",
        "Temperature1.Fahrenheit_Conversion()"
      ],
      "metadata": {
        "id": "6vlRzrRS8QjJ",
        "colab": {
          "base_uri": "https://localhost:8080/"
        },
        "outputId": "da7f401e-6765-409c-b1bb-6a3adc50ced6"
      },
      "execution_count": null,
      "outputs": [
        {
          "name": "stdout",
          "output_type": "stream",
          "text": [
            "Insert a Temperature in Celsius: 50\n"
          ]
        },
        {
          "output_type": "execute_result",
          "data": {
            "text/plain": [
              "122.0"
            ]
          },
          "metadata": {},
          "execution_count": 230
        }
      ]
    }
  ]
}