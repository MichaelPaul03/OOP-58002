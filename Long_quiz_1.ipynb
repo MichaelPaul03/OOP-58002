{
  "nbformat": 4,
  "nbformat_minor": 0,
  "metadata": {
    "colab": {
      "name": "Long quiz 1.ipynb",
      "provenance": [],
      "collapsed_sections": [],
      "authorship_tag": "ABX9TyO4sNBOZgagNZBcAoavMxoR",
      "include_colab_link": true
    },
    "kernelspec": {
      "name": "python3",
      "display_name": "Python 3"
    },
    "language_info": {
      "name": "python"
    }
  },
  "cells": [
    {
      "cell_type": "markdown",
      "metadata": {
        "id": "view-in-github",
        "colab_type": "text"
      },
      "source": [
        "<a href=\"https://colab.research.google.com/github/MichaelPaul03/OOP-58002/blob/main/Long_quiz_1.ipynb\" target=\"_parent\"><img src=\"https://colab.research.google.com/assets/colab-badge.svg\" alt=\"Open In Colab\"/></a>"
      ]
    },
    {
      "cell_type": "code",
      "source": [
        "class Temperature:\n",
        "  def __init__(self,Celsius):\n",
        "    self.Celsius = Celsius\n",
        "  \n",
        "  def Fahrenheit_Conversion(self):\n",
        "    result = float((9 * self.Celsius) / 5 + 32)\n",
        "    return result\n",
        "\n",
        "\n",
        "input_Temperature = float(input(\"Insert a Temperature in Celsius: \"))\n",
        "Temperature1 = Temperature(input_Temperature)\n",
        "print(Temperature1.Fahrenheit_Conversion())"
      ],
      "metadata": {
        "id": "6vlRzrRS8QjJ",
        "colab": {
          "base_uri": "https://localhost:8080/"
        },
        "outputId": "706a678e-d3de-4505-c68d-5af66f486294"
      },
      "execution_count": 202,
      "outputs": [
        {
          "output_type": "stream",
          "name": "stdout",
          "text": [
            "Insert a Temperature in Celsius: 15\n",
            "59.0\n"
          ]
        }
      ]
    }
  ]
}